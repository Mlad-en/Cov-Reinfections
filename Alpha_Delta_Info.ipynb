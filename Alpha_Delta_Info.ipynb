{
 "cells": [
  {
   "cell_type": "markdown",
   "id": "8e4af672",
   "metadata": {},
   "source": [
    "# Alpha and Delta Information (Deceased = COV ONLY)"
   ]
  },
  {
   "cell_type": "code",
   "execution_count": 1,
   "id": "77db3fd6",
   "metadata": {},
   "outputs": [],
   "source": [
    "import pandas as pd\n",
    "import os"
   ]
  },
  {
   "cell_type": "code",
   "execution_count": 2,
   "id": "73e90c9a",
   "metadata": {},
   "outputs": [],
   "source": [
    "input_loc = \"input_data\"\n",
    "output_loc = \"output_data\""
   ]
  },
  {
   "cell_type": "code",
   "execution_count": 3,
   "id": "baf8e130",
   "metadata": {},
   "outputs": [],
   "source": [
    "infections_mz = pd.read_csv(os.path.join(os.getcwd(), input_loc, \"infections_alpha_delta.csv\"))"
   ]
  },
  {
   "cell_type": "code",
   "execution_count": 4,
   "id": "22643982",
   "metadata": {},
   "outputs": [],
   "source": [
    "hospitalized_mz = pd.read_csv(os.path.join(os.getcwd(), input_loc, \"hospitalized_alpha_delta.csv\"))"
   ]
  },
  {
   "cell_type": "code",
   "execution_count": 5,
   "id": "ef6d654a",
   "metadata": {},
   "outputs": [],
   "source": [
    "deceased_mz_cov = pd.read_csv(os.path.join(os.getcwd(), input_loc, \"deceased_alpha_delta_without_oc_cov.csv\")) "
   ]
  },
  {
   "cell_type": "markdown",
   "id": "13514f88",
   "metadata": {},
   "source": [
    "### Prevent categorical data loss due to joins between files"
   ]
  },
  {
   "cell_type": "code",
   "execution_count": 6,
   "id": "aff94cfc",
   "metadata": {
    "scrolled": true
   },
   "outputs": [],
   "source": [
    "age_groups = ['0-4', '5-9', '10-14', '15-19', '20-24', '25-29','30-34', '35-39', '40-44',\n",
    "       '45-49', '50-54', '55-59', '60-64', '65-69', '70-74', '75-79',\n",
    "       '80-84', '85-89', '90-94', '95-99', '100+']\n",
    "\n",
    "age_binding = [age for age in age_groups for period in ['Period 1', 'Period 2']]\n",
    "period_binding = [period for age in age_groups for period in ['Period 1', 'Period 2']]\n",
    "\n",
    "full_data = pd.DataFrame({\n",
    "    'periods': period_binding,\n",
    "    'age_groups': age_binding\n",
    "})"
   ]
  },
  {
   "cell_type": "code",
   "execution_count": 7,
   "id": "3991b5fb",
   "metadata": {},
   "outputs": [],
   "source": [
    "full_data = full_data.merge(infections_mz, on=['age_groups', 'periods'], how='left')\n",
    "full_data = full_data.merge(hospitalized_mz, on=['age_groups', 'periods'], how='left')\n",
    "full_data = full_data.merge(deceased_mz_cov, on=['age_groups', 'periods'], how='left')"
   ]
  },
  {
   "cell_type": "code",
   "execution_count": 8,
   "id": "22d1099d",
   "metadata": {},
   "outputs": [],
   "source": [
    "full_data.to_csv(os.path.join(os.getcwd(), output_loc, \"infected_hospitalized_deceased[cov-only]_combined.csv\"), index=False)"
   ]
  },
  {
   "cell_type": "code",
   "execution_count": null,
   "id": "377fd831",
   "metadata": {},
   "outputs": [],
   "source": []
  }
 ],
 "metadata": {
  "kernelspec": {
   "display_name": "Python 3 (ipykernel)",
   "language": "python",
   "name": "python3"
  },
  "language_info": {
   "codemirror_mode": {
    "name": "ipython",
    "version": 3
   },
   "file_extension": ".py",
   "mimetype": "text/x-python",
   "name": "python",
   "nbconvert_exporter": "python",
   "pygments_lexer": "ipython3",
   "version": "3.10.2"
  }
 },
 "nbformat": 4,
 "nbformat_minor": 5
}
