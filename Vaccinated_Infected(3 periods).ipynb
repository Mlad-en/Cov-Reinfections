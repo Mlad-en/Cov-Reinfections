{
 "cells": [
  {
   "cell_type": "markdown",
   "metadata": {
    "id": "bTT1aqLKEvdr"
   },
   "source": [
    "# Infections among Bulgaria's Vaccinated Population"
   ]
  },
  {
   "cell_type": "markdown",
   "metadata": {},
   "source": [
    "Information for Vaccinated people that have contracted Covid-19 during the following periods:\n",
    "* Period 1 = Alpha variant (dominant)\n",
    "* Period 2 = Delta variant (available data for cross reference for all infections)\n",
    "* Period 3= Delta variant (higher levels of infection than both Period 1 and 2)\n",
    "\n",
    "Currently the Periods are set as:\n",
    "\n",
    "\n",
    "1.   Period 1 = 15th Jan 2021 - 30th Jun 2021\n",
    "2.   Period 2 = 01st JUL 2021 - 25th Nov 2021\n",
    "3.   Period 3 = 26th Nov 2021 - current date"
   ]
  },
  {
   "cell_type": "code",
   "execution_count": 31,
   "metadata": {
    "executionInfo": {
     "elapsed": 521,
     "status": "ok",
     "timestamp": 1641420127189,
     "user": {
      "displayName": "Mladen Mladenov",
      "photoUrl": "https://lh3.googleusercontent.com/a/default-user=s64",
      "userId": "14471252783693378419"
     },
     "user_tz": -120
    },
    "id": "Vr4_f7Ey_mDO"
   },
   "outputs": [],
   "source": [
    "import pandas as pd"
   ]
  },
  {
   "cell_type": "markdown",
   "metadata": {
    "id": "t1qgy1hwIzSm"
   },
   "source": [
    "If you update the period ranges below:\n",
    "\n",
    "```\n",
    "period2_end = pd.to_datetime('2021-10-25')\n",
    "```\n",
    "to \n",
    "```\n",
    "period2_end = pd.to_datetime('2022-01-04')\n",
    "```\n",
    "Then you will exptend the timeframe for Period 2 to include current data."
   ]
  },
  {
   "cell_type": "code",
   "execution_count": 32,
   "metadata": {
    "executionInfo": {
     "elapsed": 359,
     "status": "ok",
     "timestamp": 1641420131682,
     "user": {
      "displayName": "Mladen Mladenov",
      "photoUrl": "https://lh3.googleusercontent.com/a/default-user=s64",
      "userId": "14471252783693378419"
     },
     "user_tz": -120
    },
    "id": "Svu-xenO_sqJ"
   },
   "outputs": [],
   "source": [
    "period1_begining = pd.to_datetime('2021-01-15')\n",
    "period1_end = pd.to_datetime('2021-06-30')\n",
    "period2_begining = pd.to_datetime('2021-07-01')\n",
    "period2_end = pd.to_datetime('2021-10-25')\n",
    "\n",
    "\n",
    "def generate_periods(date):\n",
    "      if period1_begining <= date.to_pydatetime() <= period1_end:\n",
    "              return \"Period 1\"\n",
    "      if period2_begining <= date.to_pydatetime() <= period2_end:\n",
    "              return \"Period 2\"\n",
    "      if date.to_pydatetime() > period2_end:\n",
    "              return \"Period 3\"\n",
    "      return \"Exclude\""
   ]
  },
  {
   "cell_type": "code",
   "execution_count": 33,
   "metadata": {
    "executionInfo": {
     "elapsed": 7704,
     "status": "ok",
     "timestamp": 1641420140977,
     "user": {
      "displayName": "Mladen Mladenov",
      "photoUrl": "https://lh3.googleusercontent.com/a/default-user=s64",
      "userId": "14471252783693378419"
     },
     "user_tz": -120
    },
    "id": "gReGaf6v_10u"
   },
   "outputs": [],
   "source": [
    "infected_vacc = pd.read_csv('https://data.egov.bg/resource/download/e9f795a8-0146-4cf0-9bd1-c0ba3d9aa124/csv')\n",
    "hospitalized_vacc = pd.read_csv('https://data.egov.bg/resource/download/6fb4bfb1-f586-45af-8dd2-3385499c3664/csv')\n",
    "deceased_vacc = pd.read_csv('https://data.egov.bg/resource/download/e6a72183-28e0-486a-b4e4-b5db8b60a900/csv')"
   ]
  },
  {
   "cell_type": "code",
   "execution_count": 34,
   "metadata": {
    "executionInfo": {
     "elapsed": 1396,
     "status": "ok",
     "timestamp": 1641420142348,
     "user": {
      "displayName": "Mladen Mladenov",
      "photoUrl": "https://lh3.googleusercontent.com/a/default-user=s64",
      "userId": "14471252783693378419"
     },
     "user_tz": -120
    },
    "id": "a91kxg4o_7cE"
   },
   "outputs": [],
   "source": [
    "infected_vacc.rename(columns={'Дата': 'date', \n",
    "                              'Ваксина':'vaccine', \n",
    "                              'Пол': 'gender', \n",
    "                              'Възрастова група': 'age_group', \n",
    "                              'Брой заразени': 'count_infected_vaccinated'}, inplace=True)\n",
    "\n",
    "hospitalized_vacc.rename(columns={'Дата': 'date', \n",
    "                                  'Ваксина':'vaccine', \n",
    "                                  'Пол': 'gender', \n",
    "                                  'Възрастова група': 'age_group', \n",
    "                                  'Брой хоспитализирани': 'count_hospitalized_vaccinated'}, inplace=True)\n",
    "\n",
    "deceased_vacc.rename(columns={'Дата': 'date', \n",
    "                              'Ваксина':'vaccine', \n",
    "                              'Пол': 'gender', \n",
    "                              'Възрастова група': 'age_group', \n",
    "                              'Брой починали': 'count_deceased_vaccinated'}, inplace=True)"
   ]
  },
  {
   "cell_type": "code",
   "execution_count": 35,
   "metadata": {
    "executionInfo": {
     "elapsed": 47,
     "status": "ok",
     "timestamp": 1641420142351,
     "user": {
      "displayName": "Mladen Mladenov",
      "photoUrl": "https://lh3.googleusercontent.com/a/default-user=s64",
      "userId": "14471252783693378419"
     },
     "user_tz": -120
    },
    "id": "Ilp7EnVVAMT8"
   },
   "outputs": [],
   "source": [
    "infected_vacc['date'] = pd.to_datetime(infected_vacc['date']) \n",
    "hospitalized_vacc['date'] = pd.to_datetime(hospitalized_vacc['date']) \n",
    "deceased_vacc['date'] = pd.to_datetime(deceased_vacc['date'])"
   ]
  },
  {
   "cell_type": "code",
   "execution_count": 36,
   "metadata": {
    "executionInfo": {
     "elapsed": 42,
     "status": "ok",
     "timestamp": 1641420142353,
     "user": {
      "displayName": "Mladen Mladenov",
      "photoUrl": "https://lh3.googleusercontent.com/a/default-user=s64",
      "userId": "14471252783693378419"
     },
     "user_tz": -120
    },
    "id": "Bxnfur7lATbh"
   },
   "outputs": [],
   "source": [
    "infected_vacc['Period'] = infected_vacc.apply(lambda x: generate_periods(x['date']), axis=1)\n",
    "hospitalized_vacc['Period'] = hospitalized_vacc.apply(lambda x: generate_periods(x['date']), axis=1)\n",
    "deceased_vacc['Period'] = deceased_vacc.apply(lambda x: generate_periods(x['date']), axis=1)"
   ]
  },
  {
   "cell_type": "code",
   "execution_count": 37,
   "metadata": {
    "executionInfo": {
     "elapsed": 43,
     "status": "ok",
     "timestamp": 1641420142365,
     "user": {
      "displayName": "Mladen Mladenov",
      "photoUrl": "https://lh3.googleusercontent.com/a/default-user=s64",
      "userId": "14471252783693378419"
     },
     "user_tz": -120
    },
    "id": "Ka7Lscn9AVTQ"
   },
   "outputs": [],
   "source": [
    "infected_vacc.drop(['vaccine','gender', 'date'], axis=1, inplace=True)\n",
    "hospitalized_vacc.drop(['vaccine','gender', 'date'], axis=1, inplace=True)\n",
    "deceased_vacc.drop(['vaccine','gender', 'date'], axis=1, inplace=True)"
   ]
  },
  {
   "cell_type": "code",
   "execution_count": 38,
   "metadata": {
    "executionInfo": {
     "elapsed": 52,
     "status": "ok",
     "timestamp": 1641420142376,
     "user": {
      "displayName": "Mladen Mladenov",
      "photoUrl": "https://lh3.googleusercontent.com/a/default-user=s64",
      "userId": "14471252783693378419"
     },
     "user_tz": -120
    },
    "id": "1R4y1U9sAYAH"
   },
   "outputs": [],
   "source": [
    "infected_vacc = infected_vacc.groupby(['Period', 'age_group'], as_index=False).sum()\n",
    "hospitalized_vacc = hospitalized_vacc.groupby(['Period', 'age_group'], as_index=False).sum()\n",
    "deceased_vacc = deceased_vacc.groupby(['Period', 'age_group'], as_index=False).sum()"
   ]
  },
  {
   "cell_type": "code",
   "execution_count": 39,
   "metadata": {
    "executionInfo": {
     "elapsed": 20,
     "status": "ok",
     "timestamp": 1641420144202,
     "user": {
      "displayName": "Mladen Mladenov",
      "photoUrl": "https://lh3.googleusercontent.com/a/default-user=s64",
      "userId": "14471252783693378419"
     },
     "user_tz": -120
    },
    "id": "Wn_iHTtnAbHa"
   },
   "outputs": [],
   "source": [
    "mask = infected_vacc['age_group'] == '-'\n",
    "infected_vacc = infected_vacc[~mask]\n",
    "mask = hospitalized_vacc['age_group'] == '-'\n",
    "hospitalized_vacc = hospitalized_vacc[~mask]\n",
    "mask = deceased_vacc['age_group'] == '-'\n",
    "deceased_vacc = deceased_vacc[~mask]"
   ]
  },
  {
   "cell_type": "code",
   "execution_count": 40,
   "metadata": {
    "executionInfo": {
     "elapsed": 18,
     "status": "ok",
     "timestamp": 1641420146326,
     "user": {
      "displayName": "Mladen Mladenov",
      "photoUrl": "https://lh3.googleusercontent.com/a/default-user=s64",
      "userId": "14471252783693378419"
     },
     "user_tz": -120
    },
    "id": "jQNalMNxAgG6"
   },
   "outputs": [],
   "source": [
    "age_groups = ['12 - 14', '15 - 16', '17 - 19', '20 - 29', '30 - 39', \n",
    "              '40 - 49', '50 - 59', '60 - 69', '70 - 79', '80 - 89', '90+']\n",
    "\n",
    "full_data = pd.DataFrame({\n",
    "  'Period': [period for period in age_groups for period in ['Period 1', 'Period 2', 'Period 3']],\n",
    "  'age_group': [age for age in age_groups for period in ['Period 1', 'Period 2', 'Period 3']]\n",
    "})"
   ]
  },
  {
   "cell_type": "code",
   "execution_count": 41,
   "metadata": {
    "executionInfo": {
     "elapsed": 341,
     "status": "ok",
     "timestamp": 1641420149091,
     "user": {
      "displayName": "Mladen Mladenov",
      "photoUrl": "https://lh3.googleusercontent.com/a/default-user=s64",
      "userId": "14471252783693378419"
     },
     "user_tz": -120
    },
    "id": "5KCUS5QNEK1F"
   },
   "outputs": [],
   "source": [
    "full_data = full_data.merge(infected_vacc, on=['Period', 'age_group'], how='left')\n",
    "full_data = full_data.merge(hospitalized_vacc, on=['Period', 'age_group'], how='left')\n",
    "full_data = full_data.merge(deceased_vacc, on=['Period', 'age_group'], how='left')"
   ]
  },
  {
   "cell_type": "code",
   "execution_count": 42,
   "metadata": {
    "executionInfo": {
     "elapsed": 6,
     "status": "ok",
     "timestamp": 1641420150619,
     "user": {
      "displayName": "Mladen Mladenov",
      "photoUrl": "https://lh3.googleusercontent.com/a/default-user=s64",
      "userId": "14471252783693378419"
     },
     "user_tz": -120
    },
    "id": "6uZpAD5QENwA"
   },
   "outputs": [],
   "source": [
    "full_data = full_data.sort_values(['Period', 'age_group'])"
   ]
  },
  {
   "cell_type": "code",
   "execution_count": 44,
   "metadata": {
    "executionInfo": {
     "elapsed": 576,
     "status": "ok",
     "timestamp": 1641420159427,
     "user": {
      "displayName": "Mladen Mladenov",
      "photoUrl": "https://lh3.googleusercontent.com/a/default-user=s64",
      "userId": "14471252783693378419"
     },
     "user_tz": -120
    },
    "id": "xdjCVpGiNWaP"
   },
   "outputs": [],
   "source": [
    "full_data.to_csv('BG_Vaccinated_Infections_Periods[3].csv', index=False)"
   ]
  }
 ],
 "metadata": {
  "colab": {
   "authorship_tag": "ABX9TyMJML9NmpAX+I5QNLIa+IxU",
   "name": "Vaccinated_Infected(3 periods).ipynb",
   "provenance": []
  },
  "kernelspec": {
   "display_name": "Python 3 (ipykernel)",
   "language": "python",
   "name": "python3"
  },
  "language_info": {
   "codemirror_mode": {
    "name": "ipython",
    "version": 3
   },
   "file_extension": ".py",
   "mimetype": "text/x-python",
   "name": "python",
   "nbconvert_exporter": "python",
   "pygments_lexer": "ipython3",
   "version": "3.10.2"
  }
 },
 "nbformat": 4,
 "nbformat_minor": 1
}
